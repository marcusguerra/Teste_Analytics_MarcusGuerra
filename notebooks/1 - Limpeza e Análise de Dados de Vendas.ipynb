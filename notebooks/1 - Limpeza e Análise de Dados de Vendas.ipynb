{
 "cells": [
  {
   "metadata": {},
   "cell_type": "markdown",
   "source": "#Bibliotecas e CSV",
   "id": "314666f3821b8f66"
  },
  {
   "metadata": {
    "ExecuteTime": {
     "end_time": "2024-11-20T19:45:24.662740Z",
     "start_time": "2024-11-20T19:45:24.637937Z"
    }
   },
   "cell_type": "code",
   "source": "import pandas as pd",
   "id": "18f3adbcd2f3158c",
   "outputs": [],
   "execution_count": 69
  },
  {
   "metadata": {
    "ExecuteTime": {
     "end_time": "2024-11-20T19:45:24.842523Z",
     "start_time": "2024-11-20T19:45:24.762303Z"
    }
   },
   "cell_type": "code",
   "source": "df = pd.read_csv('C:\\\\Users\\\\cotoq\\\\PycharmProjects\\\\Teste_Analytics_MarcusGuerra\\\\data-sets\\\\data_raw.csv')",
   "id": "83fdb42c8b1ae679",
   "outputs": [],
   "execution_count": 70
  },
  {
   "metadata": {},
   "cell_type": "markdown",
   "source": "# Limpeza",
   "id": "c8fd0b09f31bf731"
  },
  {
   "metadata": {},
   "cell_type": "markdown",
   "source": "## Valores Faltantes",
   "id": "4379a8d6300cc038"
  },
  {
   "metadata": {
    "ExecuteTime": {
     "end_time": "2024-11-20T19:45:24.866879Z",
     "start_time": "2024-11-20T19:45:24.850441Z"
    }
   },
   "cell_type": "code",
   "source": [
    "valores_faltantes = df.isnull().sum()\n",
    "print(valores_faltantes)"
   ],
   "id": "1b8220899b911358",
   "outputs": [
    {
     "name": "stdout",
     "output_type": "stream",
     "text": [
      "ID            0\n",
      "Produto       0\n",
      "Categoria     0\n",
      "Preço         0\n",
      "Quantidade    0\n",
      "Data          0\n",
      "dtype: int64\n"
     ]
    }
   ],
   "execution_count": 71
  },
  {
   "metadata": {},
   "cell_type": "markdown",
   "source": "Como o data-set foi gerado artificalmente é de se esperar que não tenha nenhum valor faltando. Caso tivesse algum valor faltando, seria necessário realizar o tratamentos dos dados.",
   "id": "9a3269e16d968ce"
  },
  {
   "metadata": {},
   "cell_type": "markdown",
   "source": "## Remoção de Duplicatas",
   "id": "8ad79577efd660f0"
  },
  {
   "metadata": {},
   "cell_type": "markdown",
   "source": "Para remover duplicatas podemos usar a coluna ID, que é uma coluna única que descreve todos os registros de vendas. Para ter certeza também podemos filtrar o dataframe pelas colunas data produto e quantidade e ver se temos duplicatas. Pois para o negócio foi considerado que se foram comprados o mesmo produto, com a mesma quantidade e no mesmo horário, algum funcionário acidentalmente entrou a compra 2 vezes",
   "id": "5d05601506bc3ad0"
  },
  {
   "metadata": {
    "ExecuteTime": {
     "end_time": "2024-11-20T19:45:24.899308Z",
     "start_time": "2024-11-20T19:45:24.889399Z"
    }
   },
   "cell_type": "code",
   "source": [
    "duplicatas = df['ID'].duplicated().sum()\n",
    "print(duplicatas)"
   ],
   "id": "3572b639782faa36",
   "outputs": [
    {
     "name": "stdout",
     "output_type": "stream",
     "text": [
      "0\n"
     ]
    }
   ],
   "execution_count": 72
  },
  {
   "metadata": {
    "ExecuteTime": {
     "end_time": "2024-11-20T19:45:24.940097Z",
     "start_time": "2024-11-20T19:45:24.913326Z"
    }
   },
   "cell_type": "code",
   "source": [
    "DFduplicatas = df.duplicated(subset=['Data', 'Produto', 'Quantidade'])\n",
    "total_duplicatas = DFduplicatas.sum()\n",
    "print(total_duplicatas)"
   ],
   "id": "e0ff3f4c914b5924",
   "outputs": [
    {
     "name": "stdout",
     "output_type": "stream",
     "text": [
      "0\n"
     ]
    }
   ],
   "execution_count": 73
  },
  {
   "metadata": {},
   "cell_type": "markdown",
   "source": "Felizmente não temos nenhuma duplicata, logo não é necessário excluir nenhuma linha.",
   "id": "e40cd555112b9172"
  },
  {
   "metadata": {},
   "cell_type": "markdown",
   "source": "## Verificação de Tipos de Dados",
   "id": "44a2fe1d1a8a2f6b"
  },
  {
   "metadata": {},
   "cell_type": "markdown",
   "source": "Primeiramente devemos checar se todos os tipos esperados para cada coluna estão correspondentes aos do data-set",
   "id": "1d5f08e7a143f57e"
  },
  {
   "metadata": {
    "ExecuteTime": {
     "end_time": "2024-11-20T19:45:24.972258Z",
     "start_time": "2024-11-20T19:45:24.953594Z"
    }
   },
   "cell_type": "code",
   "source": [
    "for coluna in df.columns:\n",
    "    tipos_unicos = df[coluna].map(type).value_counts()\n",
    "    print(f'{tipos_unicos}\\n')"
   ],
   "id": "4eb7c11b6cbb3e53",
   "outputs": [
    {
     "name": "stdout",
     "output_type": "stream",
     "text": [
      "ID\n",
      "<class 'str'>    9999\n",
      "Name: count, dtype: int64\n",
      "\n",
      "Produto\n",
      "<class 'str'>    9999\n",
      "Name: count, dtype: int64\n",
      "\n",
      "Categoria\n",
      "<class 'str'>    9999\n",
      "Name: count, dtype: int64\n",
      "\n",
      "Preço\n",
      "<class 'int'>    9999\n",
      "Name: count, dtype: int64\n",
      "\n",
      "Quantidade\n",
      "<class 'int'>    9999\n",
      "Name: count, dtype: int64\n",
      "\n",
      "Data\n",
      "<class 'str'>    9999\n",
      "Name: count, dtype: int64\n",
      "\n"
     ]
    }
   ],
   "execution_count": 74
  },
  {
   "metadata": {},
   "cell_type": "markdown",
   "source": "Podemos observar que a coluna de data não está no tipo datetime, o que pode causar problemas posteriormente. Então para facilitar nossas vidas, podemos transformar ela por tipo datetime do pandas.",
   "id": "82c3632df8f1becc"
  },
  {
   "metadata": {
    "ExecuteTime": {
     "end_time": "2024-11-20T19:45:25.091227Z",
     "start_time": "2024-11-20T19:45:24.983494Z"
    }
   },
   "cell_type": "code",
   "source": [
    "df['Data'] = pd.to_datetime(df['Data'], format='%d/%m/%Y %H:%M')\n",
    "print(df['Data'].map(type).value_counts())"
   ],
   "id": "cd27d3f212d7565e",
   "outputs": [
    {
     "name": "stdout",
     "output_type": "stream",
     "text": [
      "Data\n",
      "<class 'pandas._libs.tslibs.timestamps.Timestamp'>    9999\n",
      "Name: count, dtype: int64\n"
     ]
    }
   ],
   "execution_count": 75
  },
  {
   "metadata": {},
   "cell_type": "markdown",
   "source": "Já para as colunas do tipo string também é importante observamos erros de digitação.",
   "id": "a3074b00515c858a"
  },
  {
   "metadata": {
    "ExecuteTime": {
     "end_time": "2024-11-20T19:45:25.111514Z",
     "start_time": "2024-11-20T19:45:25.104978Z"
    }
   },
   "cell_type": "code",
   "source": [
    "print(\"Valores únicos na coluna 'Produto':\")\n",
    "print(df['Produto'].unique())\n",
    "\n",
    "print(\"\\nValores únicos na coluna 'Categoria':\")\n",
    "print(df['Categoria'].unique())"
   ],
   "id": "3169f70353253bae",
   "outputs": [
    {
     "name": "stdout",
     "output_type": "stream",
     "text": [
      "Valores únicos na coluna 'Produto':\n",
      "['Notebook Dell' \"Smart TV LG 4K 55''\" 'iPhone 14 Pro' 'MacBook Air'\n",
      " 'Câmera Canon' 'Mouse Razer' 'Fone de Ouvido JBL' 'Câmera Sony'\n",
      " 'Samsung Galaxy S23' 'Caixa de Som JBL' 'Teclado Mecânico Razer']\n",
      "\n",
      "Valores únicos na coluna 'Categoria':\n",
      "['Laptops' 'Eletrônicos' 'Smartphones' 'Fotografia' 'Acessórios' 'Áudio']\n"
     ]
    }
   ],
   "execution_count": 76
  },
  {
   "metadata": {},
   "cell_type": "markdown",
   "source": "Tendo acesso a lista de produtos originais, podemos observar que não tem nenhum produto ou categoria fora do padrão, então podemos continuar",
   "id": "bef4aabce6b95c0e"
  },
  {
   "metadata": {},
   "cell_type": "markdown",
   "source": "## Salvando o data-set limpo",
   "id": "9b072edea6c60d29"
  },
  {
   "metadata": {
    "ExecuteTime": {
     "end_time": "2024-11-20T19:45:25.168403Z",
     "start_time": "2024-11-20T19:45:25.121910Z"
    }
   },
   "cell_type": "code",
   "source": "df.to_csv('C:\\\\Users\\\\cotoq\\\\PycharmProjects\\\\Teste_Analytics_MarcusGuerra\\\\data-sets\\\\data_clean.csv ', index=False)",
   "id": "4abefb6e564f804c",
   "outputs": [],
   "execution_count": 77
  },
  {
   "metadata": {},
   "cell_type": "markdown",
   "source": "# Data-set Limpo",
   "id": "c0919da9acf6e02d"
  },
  {
   "metadata": {},
   "cell_type": "markdown",
   "source": "## Calculando o Total de Vendas",
   "id": "2e56922c37929f85"
  },
  {
   "metadata": {
    "ExecuteTime": {
     "end_time": "2024-11-20T19:45:25.216711Z",
     "start_time": "2024-11-20T19:45:25.179506Z"
    }
   },
   "cell_type": "code",
   "source": "df_limpo = pd.read_csv('C:\\\\Users\\\\cotoq\\\\PycharmProjects\\\\Teste_Analytics_MarcusGuerra\\\\data-sets\\\\data_clean.csv ')",
   "id": "54edcdbc1aa4c8f7",
   "outputs": [],
   "execution_count": 78
  },
  {
   "metadata": {
    "ExecuteTime": {
     "end_time": "2024-11-20T19:45:25.254789Z",
     "start_time": "2024-11-20T19:45:25.234456Z"
    }
   },
   "cell_type": "code",
   "source": [
    "df['Total'] = df['Quantidade'] * df['Preço']\n",
    "\n",
    "total_vendas = df.groupby('Produto')['Total'].sum()\n",
    "\n",
    "total_vendas = total_vendas.sort_values(ascending=False)\n",
    "\n",
    "print(total_vendas)"
   ],
   "id": "916b5e10d33c30aa",
   "outputs": [
    {
     "name": "stdout",
     "output_type": "stream",
     "text": [
      "Produto\n",
      "MacBook Air               110580000\n",
      "Câmera Canon               85185000\n",
      "iPhone 14 Pro              80368000\n",
      "Câmera Sony                73927000\n",
      "Notebook Dell              47600000\n",
      "Samsung Galaxy S23         38312000\n",
      "Smart TV LG 4K 55''        26988000\n",
      "Caixa de Som JBL           18076000\n",
      "Teclado Mecânico Razer      6404300\n",
      "Mouse Razer                 4892500\n",
      "Fone de Ouvido JBL          3813600\n",
      "Name: Total, dtype: int64\n"
     ]
    }
   ],
   "execution_count": 79
  },
  {
   "metadata": {},
   "cell_type": "markdown",
   "source": "## Produto Mais Vendido",
   "id": "1442bc8c12a82ad7"
  },
  {
   "metadata": {
    "ExecuteTime": {
     "end_time": "2024-11-20T19:45:25.359785Z",
     "start_time": "2024-11-20T19:45:25.354985Z"
    }
   },
   "cell_type": "code",
   "source": [
    "total_RS = \"{:,.2f}\".format(total_vendas.iloc[0])\n",
    "print(f'O produto mais vendido foi {total_vendas.index[0]} faturando R$ {total_RS}')"
   ],
   "id": "e6cb733fd64932a1",
   "outputs": [
    {
     "name": "stdout",
     "output_type": "stream",
     "text": [
      "O produto mais vendido foi MacBook Air faturando R$ 110,580,000.00\n"
     ]
    }
   ],
   "execution_count": 80
  }
 ],
 "metadata": {
  "kernelspec": {
   "display_name": "Python 3",
   "language": "python",
   "name": "python3"
  },
  "language_info": {
   "codemirror_mode": {
    "name": "ipython",
    "version": 2
   },
   "file_extension": ".py",
   "mimetype": "text/x-python",
   "name": "python",
   "nbconvert_exporter": "python",
   "pygments_lexer": "ipython2",
   "version": "2.7.6"
  }
 },
 "nbformat": 4,
 "nbformat_minor": 5
}
