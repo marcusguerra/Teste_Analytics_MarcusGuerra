{
 "cells": [
  {
   "metadata": {},
   "cell_type": "raw",
   "source": "#Bibliotecas",
   "id": "2be8c56fe5ebb340"
  },
  {
   "metadata": {},
   "cell_type": "code",
   "outputs": [],
   "execution_count": null,
   "source": "import pandas as pd",
   "id": "18f3adbcd2f3158c"
  },
  {
   "metadata": {},
   "cell_type": "markdown",
   "source": "#Limpeza",
   "id": "c8fd0b09f31bf731"
  },
  {
   "metadata": {},
   "cell_type": "code",
   "outputs": [],
   "execution_count": null,
   "source": "print('a')",
   "id": "a7f68eac30e11bc"
  },
  {
   "metadata": {},
   "cell_type": "markdown",
   "source": "##teste",
   "id": "8ad79577efd660f0"
  },
  {
   "metadata": {},
   "cell_type": "markdown",
   "source": "",
   "id": "5d05601506bc3ad0"
  }
 ],
 "metadata": {
  "kernelspec": {
   "display_name": "Python 3",
   "language": "python",
   "name": "python3"
  },
  "language_info": {
   "codemirror_mode": {
    "name": "ipython",
    "version": 2
   },
   "file_extension": ".py",
   "mimetype": "text/x-python",
   "name": "python",
   "nbconvert_exporter": "python",
   "pygments_lexer": "ipython2",
   "version": "2.7.6"
  }
 },
 "nbformat": 4,
 "nbformat_minor": 5
}
